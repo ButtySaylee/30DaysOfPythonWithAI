{
  "nbformat": 4,
  "nbformat_minor": 0,
  "metadata": {
    "colab": {
      "provenance": [],
      "authorship_tag": "ABX9TyMbTr/tA0ThGe8zJSbz5JL/",
      "include_colab_link": true
    },
    "kernelspec": {
      "name": "python3",
      "display_name": "Python 3"
    },
    "language_info": {
      "name": "python"
    }
  },
  "cells": [
    {
      "cell_type": "markdown",
      "metadata": {
        "id": "view-in-github",
        "colab_type": "text"
      },
      "source": [
        "<a href=\"https://colab.research.google.com/github/ButtySaylee/30DaysOfPythonWithAI/blob/main/A%20simple%20arithmetic%20operation%20calculator%20using%20function.ipynb\" target=\"_parent\"><img src=\"https://colab.research.google.com/assets/colab-badge.svg\" alt=\"Open In Colab\"/></a>"
      ]
    },
    {
      "cell_type": "code",
      "execution_count": 5,
      "metadata": {
        "colab": {
          "base_uri": "https://localhost:8080/"
        },
        "id": "v_RfL1nmxRTK",
        "outputId": "cf4fc381-c84d-4232-eb12-db211e635342"
      },
      "outputs": [
        {
          "output_type": "stream",
          "name": "stdout",
          "text": [
            "30\n",
            "20\n",
            "200\n",
            "0.5\n"
          ]
        }
      ],
      "source": [
        "def add(a,b):\n",
        "  print(a+b)\n",
        "\n",
        "def sub(a,b):\n",
        "  print(a-b)\n",
        "\n",
        "def mul(a,b):\n",
        "  print(a*b)\n",
        "\n",
        "def div(a,b):\n",
        "  print(a/b)\n",
        "\n",
        "add(10,20)\n",
        "sub(40,20)\n",
        "mul(10,20)\n",
        "div(10,20)"
      ]
    }
  ]
}