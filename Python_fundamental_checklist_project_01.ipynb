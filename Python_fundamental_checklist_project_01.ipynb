{
  "nbformat": 4,
  "nbformat_minor": 0,
  "metadata": {
    "colab": {
      "provenance": [],
      "authorship_tag": "ABX9TyNsVX+ibcr9V84J8kAoiwF8",
      "include_colab_link": true
    },
    "kernelspec": {
      "name": "python3",
      "display_name": "Python 3"
    },
    "language_info": {
      "name": "python"
    }
  },
  "cells": [
    {
      "cell_type": "markdown",
      "metadata": {
        "id": "view-in-github",
        "colab_type": "text"
      },
      "source": [
        "<a href=\"https://colab.research.google.com/github/ButtySaylee/30DaysOfPythonWithAI/blob/main/Python_fundamental_checklist_project_01.ipynb\" target=\"_parent\"><img src=\"https://colab.research.google.com/assets/colab-badge.svg\" alt=\"Open In Colab\"/></a>"
      ]
    },
    {
      "cell_type": "code",
      "execution_count": 8,
      "metadata": {
        "colab": {
          "base_uri": "https://localhost:8080/"
        },
        "id": "ZDrEjtuXraRX",
        "outputId": "e2158a36-d9c4-4ec9-e7c0-9896f440e311"
      },
      "outputs": [
        {
          "output_type": "stream",
          "name": "stdout",
          "text": [
            "Did you finish Introduction to Python? Type YES or NO: yes\n",
            "Did you finish Basic Python Syntax and with AI? Type YES or NO: yese\n",
            "Invalid input for 'Basic Python Syntax and with AI'. Assuming incomplete.\n",
            "Did you finish Control Structure-if else with AI? Type YES or NO: yes\n",
            "Did you finish Control Structure-for loop with AI? Type YES or NO: yes\n",
            "Did you finish Working with list and with AI? Type YES or NO: no\n",
            "Did you finish Weekly Quiz 1? Type YES or NO: yes\n",
            "Did you finish Weekly Project 1? Type YES or NO: yes\n",
            "\n",
            "Completed Tasks:\n",
            "- Introduction to Python\n",
            "- Control Structure-if else with AI\n",
            "- Control Structure-for loop with AI\n",
            "- Weekly Quiz 1\n",
            "- Weekly Project 1\n",
            "\n",
            "Incomplete Tasks:\n",
            "- Basic Python Syntax and with AI\n",
            "- Working with list and with AI\n"
          ]
        }
      ],
      "source": [
        "day_1 = \"Introduction to Python\"\n",
        "day_2 = \"Basic Python Syntax and with AI\"\n",
        "day_3 = \"Control Structure-if else with AI\"\n",
        "day_4 = \"Control Structure-for loop with AI\"\n",
        "day_5 = \"Working with list and with AI\"\n",
        "day_6 = \"Weekly Quiz 1\"\n",
        "day_7 = \"Weekly Project 1\"\n",
        "\n",
        "checklist = [day_1, day_2, day_3, day_4, day_5, day_6, day_7]\n",
        "\n",
        "completed_tasks = []\n",
        "incomplete_tasks = []\n",
        "\n",
        "day_1 = \"Introduction to Python\"\n",
        "day_2 = \"Basic Python Syntax and with AI\"\n",
        "day_3 = \"Control Structure-if else with AI\"\n",
        "day_4 = \"Control Structure-for loop with AI\"\n",
        "day_5 = \"Working with list and with AI\"\n",
        "day_6 = \"Weekly Quiz 1\"\n",
        "day_7 = \"Weekly Project 1\"\n",
        "\n",
        "checklist = [day_1, day_2, day_3, day_4, day_5, day_6, day_7]\n",
        "\n",
        "completed_tasks = []\n",
        "incomplete_tasks = []\n",
        "\n",
        "for task in checklist:\n",
        "\n",
        "  completion_status = input(f\"Did you finish {task}? Type YES or NO: \").upper()\n",
        "\n",
        "  if completion_status == \"YES\":\n",
        "    completed_tasks.append(task)\n",
        "  elif completion_status == \"NO\":\n",
        "    incomplete_tasks.append(task)\n",
        "  else:\n",
        "    # Handle invalid input\n",
        "    print(f\"Invalid input for '{task}'. Assuming incomplete.\")\n",
        "    incomplete_tasks.append(task)\n",
        "\n",
        "# Print the results\n",
        "print(\"\\nCompleted Tasks:\")\n",
        "for task in completed_tasks:\n",
        "  print(f\"- {task}\")\n",
        "\n",
        "print(\"\\nIncomplete Tasks:\")\n",
        "for task in incomplete_tasks:\n",
        "  print(f\"- {task}\")\n",
        "  if completion_status == \"YES\":\n",
        "    completed_tasks.append(task)\n",
        "  elif completion_status == \"NO\":\n",
        "    incomplete_tasks.append(task)\n",
        "  else:\n",
        "    # Handle invalid input\n",
        "    print(\"Invalid input for '{task}'. Assuming incomplete.\")\n",
        "    incomplete_tasks.append(task)"
      ]
    }
  ]
}